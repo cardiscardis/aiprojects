{
  "nbformat": 4,
  "nbformat_minor": 0,
  "metadata": {
    "colab": {
      "name": "salaryEstimationKNN.ipynb",
      "provenance": [],
      "authorship_tag": "ABX9TyOolLf/0Ebicc3FkzRyZMkd",
      "include_colab_link": true
    },
    "kernelspec": {
      "name": "python3",
      "display_name": "Python 3"
    },
    "language_info": {
      "name": "python"
    }
  },
  "cells": [
    {
      "cell_type": "markdown",
      "metadata": {
        "id": "view-in-github",
        "colab_type": "text"
      },
      "source": [
        "<a href=\"https://colab.research.google.com/github/cardiscardis/aiprojects/blob/main/salaryEstimationKNN.ipynb\" target=\"_parent\"><img src=\"https://colab.research.google.com/assets/colab-badge.svg\" alt=\"Open In Colab\"/></a>"
      ]
    },
    {
      "cell_type": "code",
      "metadata": {
        "id": "3rs9rKMcDeRL"
      },
      "source": [
        "import pandas as pd\n",
        "import numpy as np\n",
        "from google.colab import files\n",
        "uploaded = files.upload() #run and load data\n"
      ],
      "execution_count": null,
      "outputs": []
    },
    {
      "cell_type": "code",
      "metadata": {
        "id": "mJRyWVbgD_Sn"
      },
      "source": [
        "dataset = pd.csv_read('') #put dataset filename \n",
        "print(dataset.shape)\n",
        "print(dataset.head(5))"
      ],
      "execution_count": null,
      "outputs": []
    },
    {
      "cell_type": "code",
      "metadata": {
        "id": "8BuchUNggaOY"
      },
      "source": [
        "income_set = set(dataset['income'])\n",
        "dataset['income'] = dataset['income'].map({'<=50K': 0, '>50K': 1}).astype(int)\n",
        "print(dataset.head)"
      ],
      "execution_count": null,
      "outputs": []
    },
    {
      "cell_type": "code",
      "metadata": {
        "id": "P7vWPUKIgYjc"
      },
      "source": [
        "x = dataset.iloc[:, :-1].values\n",
        "y = dataset.iloc[:, -1].values"
      ],
      "execution_count": null,
      "outputs": []
    },
    {
      "cell_type": "code",
      "metadata": {
        "id": "ebHurdcRFLXx"
      },
      "source": [
        "from sklearn.model_selection import train_test_split\n",
        "x_train, x_test, y_train, y_test = train_test_split(x, y, test_size = 0.25, random_state = 0)"
      ],
      "execution_count": null,
      "outputs": []
    },
    {
      "cell_type": "code",
      "metadata": {
        "id": "AH2iWXfrieo2"
      },
      "source": [
        "error = []\n",
        "from sklearn.neighbors import KNeighborsClassifier\n",
        "import matplotlib.pyplot as plt\n",
        "\n",
        "for i in range(1, 40):\n",
        "  model = KNeighborsClassifier(n_neighbors = i)\n",
        "  model.fit(x_train, y_train)\n",
        "  pred_i = model.predict(x_test)\n",
        "  error.append(np.mean(pred_i != y_test))"
      ],
      "execution_count": null,
      "outputs": []
    },
    {
      "cell_type": "code",
      "metadata": {
        "id": "EeZ9707ilDJ9"
      },
      "source": [
        "plt.figure(figsize = (12, 6))\n",
        "plt.plot(range(1, 40), error, color='red', linestyle='dashed', marker='0',\n",
        "         markerfacecolor='blue', markersize = 10)\n",
        "plt.title('Error Rate K Value')\n",
        "plt.xlabel('K Value')\n",
        "plt.ylabel('Mean Error')"
      ],
      "execution_count": null,
      "outputs": []
    },
    {
      "cell_type": "code",
      "metadata": {
        "id": "0wrmvNR-ngfu"
      },
      "source": [
        "model = KNeighborsClassifier(n_neighbors = 2, metric = 'minkowski', p=2)\n",
        "  model.fit(x_train, y_train)"
      ],
      "execution_count": null,
      "outputs": []
    },
    {
      "cell_type": "code",
      "metadata": {
        "id": "mxqis5pMF2yu"
      },
      "source": [
        "from sklearn.preprocessing import StandardScaler\n",
        "sc = StandardScaler()\n",
        "X_train = sc.fit_transorm(x_train)\n",
        "X_test = sc.transform(x_test)"
      ],
      "execution_count": null,
      "outputs": []
    },
    {
      "cell_type": "code",
      "metadata": {
        "id": "yq-wSsh6HN-4"
      },
      "source": [
        "age = int(input(\"enter New Customer Age: \"))\n",
        "edu = int(input(\"enter New Customer Edu: \"))\n",
        "cg = int(input(\"Enter New Capital Gain: \"))\n",
        "wh = int(input(\"enter New Hour Per Week: \"))\n",
        "nuwExp = [[age, edu, cg, wh]]\n",
        "result = model.predict(sc.transform(newExp))\n",
        "print(result)\n",
        "\n",
        "if result == 1:\n",
        "  print(\"Salary above 50K predicted\")\n",
        "else:\n",
        "  print(\"Salary below 50K predicted\")"
      ],
      "execution_count": null,
      "outputs": []
    },
    {
      "cell_type": "code",
      "metadata": {
        "id": "kxl4ToSeIEoN"
      },
      "source": [
        "y_pred = model.predic(x_test)\n",
        "print(np.concatenate((y_pred.reshape(len(y_pred), 1), y.test.reshape(len(y_test), 1)), 1))"
      ],
      "execution_count": null,
      "outputs": []
    },
    {
      "cell_type": "code",
      "metadata": {
        "id": "qhIWcVSIpjGa"
      },
      "source": [
        "from sklearn.metrics import confusion_matrix, accuracy_score\n",
        "cm = confusion_matrix(y_test, y_pred)\n",
        "\n",
        "print(\"confusion matrix: \")\n",
        "print (cm)\n",
        "\n",
        "print(\"Accuracy of the Model: {0}%\".format(accuracy_score(y_test, y_pred) * 100))"
      ],
      "execution_count": null,
      "outputs": []
    }
  ]
}